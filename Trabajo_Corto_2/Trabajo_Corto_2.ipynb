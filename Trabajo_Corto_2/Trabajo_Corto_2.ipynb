{
  "cells": [
    {
      "cell_type": "markdown",
      "metadata": {
        "id": "Y5zYLAE8LTvr"
      },
      "source": [
        "**Instituto Tecnológico de Costa Rica**\n",
        "\n",
        "**Escuela de Ingeniería en Computación**\n",
        "\n",
        "**Maestría Académica en Ciencias de la Computación**\n",
        "\n",
        "**Curso: Electiva Aprendizaje Automático**\n",
        "\n",
        "**Segundo Semestre 2025**\n",
        "\n",
        "**Profesor: Dr. Luis-Alexander Calvo-Valverde**\n",
        "\n",
        "---\n",
        "\n",
        "**Trabajo Práctico:** 2\n",
        "\n",
        "**Datos de la entrega:** Jueves 23 de octubre 2025, a más tardar a las 6:00 pm\n",
        "\n",
        "**Medio de entrega**: Por medio del TEC-Digital.\n",
        "\n",
        "**Entregables**: Un archivo jupyter ( .IPYNB ) y todos los archivos adiconales que se requieran para correr su Cuaderno (En un archivo comprimido)\n",
        "\n",
        "---\n",
        "\n",
        "**Estudiantes:**\n",
        "- Estudiante 1\n",
        "- Estudiante 2\n",
        "\n",
        "\n",
        "\n"
      ]
    },
    {
      "cell_type": "markdown",
      "source": [
        "# Nota Introductoria.\n",
        "\n",
        "Usted puede cambiar los datasets que se le proporcionan por otros de su interés; pero de hacerlo, se le recomienda valorarlo con el profesor para que sus datasets no le agreguen una complicación importante al Trabajo Práctico."
      ],
      "metadata": {
        "id": "hU_-GBXbuRCI"
      }
    },
    {
      "cell_type": "markdown",
      "metadata": {
        "id": "IbyPEeMBtRJW"
      },
      "source": [
        "___\n",
        "\n",
        "# Parte 1  -  Regresión (50 puntos)\n",
        "___"
      ]
    },
    {
      "cell_type": "markdown",
      "metadata": {
        "id": "O_oh0DUmtRJX"
      },
      "source": [
        "# Introducción\n",
        "\n",
        "Considere:\n",
        "- Se le proporciona un conjunto de datos (diamonds), si desea conocer un poco de los atributos puede consultar en: https://www.kaggle.com/datasets/shivam2503/diamonds\n",
        "- Note que en la página proporcionada se mencionan más atributos de los que contiene el archivo facilitado.  \n",
        "- El objetivo de esta parte es ver como el estudiante se enfrenta al proceso de pre-procesamiento, selección de atributos, predicción y evaluación.  Por eso es muy importante que documente en este cuaderno sus decisiones, eso se tomará muy en cuenta en la evaluación de su respuesta.\n",
        "- El atributo a predecir en regresión se denomina: price.\n",
        "- Debe comentar ampliamente su código\n"
      ]
    },
    {
      "cell_type": "code",
      "execution_count": null,
      "metadata": {
        "id": "POtwbDjytRJX"
      },
      "outputs": [],
      "source": []
    },
    {
      "cell_type": "markdown",
      "metadata": {
        "id": "EH4wZ1YRAqxb"
      },
      "source": [
        "### 1 (5 puntos)\n",
        "- Cargue el archivo.\n",
        "- Utilice las herramientas (gráficos, funciones que describen contenido o características de las variables, etc) que considere necesarias para analizar los atributos que tiene el dataset y ver si tiene valores faltantes, valores atípicos, etc.\n",
        "- Comente sus conclusiones sobre los atritubos.\n"
      ]
    },
    {
      "cell_type": "code",
      "execution_count": null,
      "metadata": {
        "id": "BA-EP3RPAqxW"
      },
      "outputs": [],
      "source": []
    },
    {
      "cell_type": "markdown",
      "metadata": {
        "id": "9tNVtXGvAqxe"
      },
      "source": [
        "### 2 (5 puntos)\n",
        "- Se utilizará el modelo Train/Validation (70%)  y Test (30%).\n",
        "- Comente su decisión sobre los parámetros shuffle y random_state\n",
        "- Separe  los  conjuntos de datos (70-30) (X_trainVal, X_test, y_trainVal, y_test )\n",
        "- Muestre los primeros 5 registros de cada conjunto.\n"
      ]
    },
    {
      "cell_type": "code",
      "execution_count": null,
      "metadata": {
        "id": "Leqk_YXcAqxe"
      },
      "outputs": [],
      "source": []
    },
    {
      "cell_type": "markdown",
      "metadata": {
        "id": "miPS0QToAqxi"
      },
      "source": [
        "### 3  (10 puntos)\n",
        "- Preprocese los atributos (Solo deje para más adelante escalar los datos).\n",
        "- Debe comentar en celdas del texto el por qué seleccionó las técnicas utilizadas."
      ]
    },
    {
      "cell_type": "code",
      "execution_count": null,
      "metadata": {
        "id": "aNmBM81JAqxj"
      },
      "outputs": [],
      "source": []
    },
    {
      "cell_type": "markdown",
      "metadata": {
        "id": "F2aijX35Aqxm"
      },
      "source": [
        "### 4 (5 puntos)\n",
        "- Realice selección de atributos.\n",
        "- Debe utilizar al menos una técnica para justificar su decisión (De entre los métodos: Filter, Wrapper, Embedded).\n",
        "- Comente sus conclusiones.\n"
      ]
    },
    {
      "cell_type": "code",
      "execution_count": null,
      "metadata": {
        "id": "hI1ridvAAqxn"
      },
      "outputs": [],
      "source": []
    },
    {
      "cell_type": "markdown",
      "metadata": {
        "id": "97T8JyJoAqxq"
      },
      "source": [
        "### 1.5  (5 puntos)\n",
        "- Escale los datos.\n",
        "- Comente qué técnica utilizó y por qué.\n",
        "- Guarde el archivo ya pre-procesado con el nombre: \"'diamondsPROCESADO\"\n",
        "\n",
        "**Nota:** No olvide cómo manejará el \"bias\" (o agregar columna de unos, o si la implementación de los algoritmos que utilizará permiten indicarle que lo agregue).\n"
      ]
    },
    {
      "cell_type": "code",
      "execution_count": null,
      "metadata": {
        "id": "U7MXlIo7Aqxq"
      },
      "outputs": [],
      "source": []
    },
    {
      "cell_type": "markdown",
      "metadata": {
        "id": "7luDf08KAqxt"
      },
      "source": [
        "### 1.6 (15 puntos)\n",
        "Presente e implemente un diseño experimental que incluya:\n",
        "- Dos algoritmos diferentes:\n",
        "    - Uno será la regresión lineal de mínimos cuadrados sin regularización (OLSR).\n",
        "    - Usted eligirá un método más, que no sea de los vistos en clase. Si tiene dudas de si puede o no usar algún método, puede consultar al profesor. Para el segundo método deberá elegir al menos un hiperparámetro.\n",
        "    - Como el OLSR no tiene hiperparámetros, use todo el train/validation para entrenar. Para el otro método, debe usar ten-cross-validation para seleccionar al menos un hiperparámetro.\n",
        "    - Debe registrar las métricas RMSE y R2. Usted decide cuál de estas dos métricas usa para selecionar la mejor configuración (Justifique su selección).\n",
        "    \n",
        "**Nota:** Para el algoritmos seleccionado (no el OLSR) explique los parámetros que recibe según la biblioteca utilizada.\n",
        "    "
      ]
    },
    {
      "cell_type": "code",
      "execution_count": null,
      "metadata": {
        "id": "30z4eKbKAqxt"
      },
      "outputs": [],
      "source": []
    },
    {
      "cell_type": "markdown",
      "metadata": {
        "id": "hRSit4mpAqxv"
      },
      "source": [
        "### 1.7 (5 puntos)\n",
        "\n",
        "- Por medio de una tabla u otro método idóneo que Usted determine, resuma todos los resultados obtenidos (o la mayoría).\n",
        "- Grafique comparativamente los valores del real versus el predicho (test), de cada uno de los métodos utilizados.  \n",
        "- Qué conclusiones finales saca sobre los métodos usados como predictores."
      ]
    },
    {
      "cell_type": "code",
      "execution_count": null,
      "metadata": {
        "id": "0bn7ujBQAqxw"
      },
      "outputs": [],
      "source": []
    },
    {
      "cell_type": "markdown",
      "metadata": {
        "id": "slz01GL3tRJa"
      },
      "source": [
        "___\n",
        "\n",
        "# Parte 2  -  Clasificación (50 puntos)\n",
        "___"
      ]
    },
    {
      "cell_type": "markdown",
      "metadata": {
        "id": "WZDOWUxUtRJa"
      },
      "source": [
        "### Considere lo siguiente:\n",
        "1. Conjunto de datos: **cardio.csv**\n",
        "1. Algunos detalles del conjunto de datos los puede ver en: https://www.kaggle.com/datasets/sulianova/cardiovascular-disease-dataset.\n",
        "1. El atributo a predecir es: **cardio**.\n",
        "1. Proponga al menos dos algoritmos a utilizar\n",
        "1. Métricas:\n",
        "    1. Accuracy\n",
        "    1. Ustedes propongan una más.\n",
        "1. Debe presentar en este cuaderno:\n",
        "    1. Pre-procesamiento de los datos, explicando las decisiones en cada caso.\n",
        "    1. Para cada uno de los algoritmos seleccionados:\n",
        "        1. Explicación del algoritmo.\n",
        "        1. Explicación de la implementación seleccionada y de sus parámetros (según la biblioteca).\n",
        "    1. Explicación del diseño experimental por ejecutar. Recuerde que si el algoritmo requiere seleccionar hyperparámetros, hay que dividir en tres conjuntos de datos: Training, Validation, Testing (60%, 20%, 20%). Se le recomienda confirmar con el profesor cuántos y cuáles hyperparámetros validar.\n",
        "    1. Programación del diseño experimental.\n",
        "    1. Tablas de resultados, gráficos y conclusiones de los resultados, recomendando a su contratante cuál algoritmo utilizar, con qué configuración y por qué lo recomienda."
      ]
    },
    {
      "cell_type": "code",
      "execution_count": null,
      "metadata": {
        "id": "UZVEhNv8tRJa"
      },
      "outputs": [],
      "source": []
    }
  ],
  "metadata": {
    "colab": {
      "provenance": []
    },
    "kernelspec": {
      "display_name": "Python 3 (ipykernel)",
      "language": "python",
      "name": "python3"
    },
    "language_info": {
      "codemirror_mode": {
        "name": "ipython",
        "version": 3
      },
      "file_extension": ".py",
      "mimetype": "text/x-python",
      "name": "python",
      "nbconvert_exporter": "python",
      "pygments_lexer": "ipython3",
      "version": "3.9.13"
    }
  },
  "nbformat": 4,
  "nbformat_minor": 0
}